{
 "cells": [
  {
   "cell_type": "markdown",
   "metadata": {},
   "source": [
    "# Python Task"
   ]
  },
  {
   "cell_type": "markdown",
   "metadata": {},
   "source": [
    "Bowling pins challenge - In this challenge, the rules of the game are slightly modified. Now, there are a given number of pins, and the pins are arranged in a horizontal line instead of a triangular formation. Two players have to play this game, taking alternate turns. Whoever knocks down the last pin(s) will be declared the winner."
   ]
  },
  {
   "cell_type": "markdown",
   "metadata": {},
   "source": [
    "We can apply Sprague-Grundy Theorem in any impartial game and solve it. The basic steps are listed as follows:\n",
    "\n",
    "1)Break the composite game into sub-games. 2)Then for each sub-game, calculate the Grundy Number at that position. 3)Then calculate the XOR of all the calculated Grundy Numbers. 4)If the XOR value is non-zero, then the player who is going to make the turn (First Player) will win else he is destined to lose, no matter what."
   ]
  },
  {
   "cell_type": "code",
   "execution_count": 1,
   "metadata": {},
   "outputs": [],
   "source": [
    "import sys\n",
    "import re"
   ]
  },
  {
   "cell_type": "code",
   "execution_count": 3,
   "metadata": {},
   "outputs": [],
   "source": [
    "def isWinning(n, config):\n",
    "    #splitting the pins into groups where ever it finds 'X'\n",
    "    groups = config.strip().split('X')\n",
    "    max_len = 0\n",
    "    for g in groups:\n",
    "        max_len = max(max_len, len(g))\n",
    "    #precompute the Sprague-Grundy (SG) function for all 0 <= n <= 300   \n",
    "    g = [0, 1, 2]\n",
    "    for n in range(3, max_len + 1):\n",
    "        s = set() \n",
    "        #For Both one pin and two pins knocked down cases\n",
    "        # '^' denotes bitwise XOR\n",
    "                \n",
    "        for l in (1, 2):\n",
    "            # the group of n pins can be split into two \n",
    "            # groups of i and n - l - i pins\n",
    "            \n",
    "            for i in range((n - l)//2 + 1):\n",
    "                 s.add(g[i]^g[n - l - i])\n",
    "        # compute mex (minimum excluded value)        \n",
    "        m = 0\n",
    "        while m in s:\n",
    "            m += 1\n",
    "        g.append(m)\n",
    "\n",
    "    ret = 0\n",
    "    #xor the SG values\n",
    "    for p in groups:\n",
    "        ret ^= g[len(p)]\n",
    "    if ret:\n",
    "        return \"WIN\"\n",
    "    else:\n",
    "        return \"LOSE\""
   ]
  },
  {
   "cell_type": "code",
   "execution_count": 8,
   "metadata": {},
   "outputs": [
    {
     "name": "stdout",
     "output_type": "stream",
     "text": [
      "3\n",
      "4\n",
      "IXII\n",
      "WIN\n",
      "5\n",
      "IIXXI\n",
      "WIN\n",
      "5\n",
      "IIXII\n",
      "LOSE\n"
     ]
    }
   ],
   "source": [
    "if __name__ == \"__main__\":\n",
    "    #The first line contains an integer 't' - the number of test cases. Then test cases follow.\n",
    "    t = int(input().strip())\n",
    "    for a in range(t):\n",
    "        #For each test case, the first line contains a single integer -n (denoting the number of pins). \n",
    "        #The second line contains a string of  letters, where each letter is either I or X.\n",
    "        n = int(input().strip())\n",
    "        config = input().strip()\n",
    "        result = isWinning(n, config)\n",
    "        print(result)\n",
    "        "
   ]
  }
 ],
 "metadata": {
  "kernelspec": {
   "display_name": "Python 3",
   "language": "python",
   "name": "python3"
  },
  "language_info": {
   "codemirror_mode": {
    "name": "ipython",
    "version": 3
   },
   "file_extension": ".py",
   "mimetype": "text/x-python",
   "name": "python",
   "nbconvert_exporter": "python",
   "pygments_lexer": "ipython3",
   "version": "3.7.3"
  }
 },
 "nbformat": 4,
 "nbformat_minor": 2
}
